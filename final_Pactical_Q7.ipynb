{
 "cells": [
  {
   "cell_type": "code",
   "execution_count": 1,
   "id": "af901914-e7f1-4a99-9c82-468776c1fa18",
   "metadata": {},
   "outputs": [],
   "source": [
    "import re\n",
    "from nltk.corpus import stopwords"
   ]
  },
  {
   "cell_type": "code",
   "execution_count": 3,
   "id": "60e374e3-ba60-480a-a807-ef262dd65a41",
   "metadata": {},
   "outputs": [],
   "source": [
    "def clean_text(text):\n",
    "    text = text.lower()\n",
    "    text = re.sub(r'[^\\w\\s]', '', text)\n",
    "    words = text.split()\n",
    "    stop_words = set(stopwords.words('english'))\n",
    "    words = [word for word in words if word not in stop_words]\n",
    "    return words"
   ]
  },
  {
   "cell_type": "code",
   "execution_count": 5,
   "id": "ed06cdb0-f6e1-42c5-95b4-e727d453d227",
   "metadata": {},
   "outputs": [
    {
     "name": "stdout",
     "output_type": "stream",
     "text": [
      "['hello', 'sample', 'text', 'punctuation', 'stopwords']\n"
     ]
    }
   ],
   "source": [
    "# Example usage\n",
    "raw_text = \"Hello! This is a Sample Text, with Punctuation and STOPWORDS.\"\n",
    "print(clean_text(raw_text))"
   ]
  },
  {
   "cell_type": "code",
   "execution_count": null,
   "id": "a5a5b8b6-d1b5-4f7b-8995-2d2110c0286b",
   "metadata": {},
   "outputs": [],
   "source": []
  }
 ],
 "metadata": {
  "kernelspec": {
   "display_name": "Python [conda env:base] *",
   "language": "python",
   "name": "conda-base-py"
  },
  "language_info": {
   "codemirror_mode": {
    "name": "ipython",
    "version": 3
   },
   "file_extension": ".py",
   "mimetype": "text/x-python",
   "name": "python",
   "nbconvert_exporter": "python",
   "pygments_lexer": "ipython3",
   "version": "3.12.7"
  }
 },
 "nbformat": 4,
 "nbformat_minor": 5
}
